{
 "cells": [
  {
   "cell_type": "code",
   "execution_count": 37,
   "id": "4d03358f",
   "metadata": {},
   "outputs": [],
   "source": [
    "import pandas as pd\n",
    "from sklearn.model_selection import train_test_split\n",
    "from sklearn.metrics import confusion_matrix\n",
    "from sklearn.linear_model import LogisticRegression\n",
    "from sklearn.pipeline import Pipeline , make_pipeline\n",
    "from sklearn.model_selection import GridSearchCV , cross_val_score\n",
    "from sklearn.preprocessing import MinMaxScaler"
   ]
  },
  {
   "cell_type": "code",
   "execution_count": 6,
   "id": "bc74e5a6",
   "metadata": {},
   "outputs": [
    {
     "data": {
      "text/html": [
       "<div>\n",
       "<style scoped>\n",
       "    .dataframe tbody tr th:only-of-type {\n",
       "        vertical-align: middle;\n",
       "    }\n",
       "\n",
       "    .dataframe tbody tr th {\n",
       "        vertical-align: top;\n",
       "    }\n",
       "\n",
       "    .dataframe thead th {\n",
       "        text-align: right;\n",
       "    }\n",
       "</style>\n",
       "<table border=\"1\" class=\"dataframe\">\n",
       "  <thead>\n",
       "    <tr style=\"text-align: right;\">\n",
       "      <th></th>\n",
       "      <th>Unnamed: 0</th>\n",
       "      <th>Education</th>\n",
       "      <th>JoiningYear</th>\n",
       "      <th>City</th>\n",
       "      <th>PaymentTier</th>\n",
       "      <th>Age</th>\n",
       "      <th>Gender</th>\n",
       "      <th>EverBenched</th>\n",
       "      <th>ExperienceInCurrentDomain</th>\n",
       "      <th>LeaveOrNot</th>\n",
       "    </tr>\n",
       "  </thead>\n",
       "  <tbody>\n",
       "    <tr>\n",
       "      <th>0</th>\n",
       "      <td>0</td>\n",
       "      <td>0</td>\n",
       "      <td>2017</td>\n",
       "      <td>0</td>\n",
       "      <td>3</td>\n",
       "      <td>34</td>\n",
       "      <td>1</td>\n",
       "      <td>0</td>\n",
       "      <td>0</td>\n",
       "      <td>0</td>\n",
       "    </tr>\n",
       "    <tr>\n",
       "      <th>1</th>\n",
       "      <td>1</td>\n",
       "      <td>0</td>\n",
       "      <td>2013</td>\n",
       "      <td>2</td>\n",
       "      <td>1</td>\n",
       "      <td>28</td>\n",
       "      <td>0</td>\n",
       "      <td>0</td>\n",
       "      <td>3</td>\n",
       "      <td>1</td>\n",
       "    </tr>\n",
       "    <tr>\n",
       "      <th>2</th>\n",
       "      <td>2</td>\n",
       "      <td>0</td>\n",
       "      <td>2014</td>\n",
       "      <td>1</td>\n",
       "      <td>3</td>\n",
       "      <td>38</td>\n",
       "      <td>0</td>\n",
       "      <td>0</td>\n",
       "      <td>2</td>\n",
       "      <td>0</td>\n",
       "    </tr>\n",
       "    <tr>\n",
       "      <th>3</th>\n",
       "      <td>3</td>\n",
       "      <td>1</td>\n",
       "      <td>2016</td>\n",
       "      <td>0</td>\n",
       "      <td>3</td>\n",
       "      <td>27</td>\n",
       "      <td>1</td>\n",
       "      <td>0</td>\n",
       "      <td>5</td>\n",
       "      <td>1</td>\n",
       "    </tr>\n",
       "    <tr>\n",
       "      <th>4</th>\n",
       "      <td>4</td>\n",
       "      <td>1</td>\n",
       "      <td>2017</td>\n",
       "      <td>2</td>\n",
       "      <td>3</td>\n",
       "      <td>24</td>\n",
       "      <td>1</td>\n",
       "      <td>1</td>\n",
       "      <td>2</td>\n",
       "      <td>1</td>\n",
       "    </tr>\n",
       "    <tr>\n",
       "      <th>...</th>\n",
       "      <td>...</td>\n",
       "      <td>...</td>\n",
       "      <td>...</td>\n",
       "      <td>...</td>\n",
       "      <td>...</td>\n",
       "      <td>...</td>\n",
       "      <td>...</td>\n",
       "      <td>...</td>\n",
       "      <td>...</td>\n",
       "      <td>...</td>\n",
       "    </tr>\n",
       "    <tr>\n",
       "      <th>4648</th>\n",
       "      <td>4648</td>\n",
       "      <td>0</td>\n",
       "      <td>2013</td>\n",
       "      <td>0</td>\n",
       "      <td>3</td>\n",
       "      <td>26</td>\n",
       "      <td>0</td>\n",
       "      <td>0</td>\n",
       "      <td>4</td>\n",
       "      <td>0</td>\n",
       "    </tr>\n",
       "    <tr>\n",
       "      <th>4649</th>\n",
       "      <td>4649</td>\n",
       "      <td>1</td>\n",
       "      <td>2013</td>\n",
       "      <td>2</td>\n",
       "      <td>2</td>\n",
       "      <td>37</td>\n",
       "      <td>1</td>\n",
       "      <td>0</td>\n",
       "      <td>2</td>\n",
       "      <td>1</td>\n",
       "    </tr>\n",
       "    <tr>\n",
       "      <th>4650</th>\n",
       "      <td>4650</td>\n",
       "      <td>1</td>\n",
       "      <td>2018</td>\n",
       "      <td>1</td>\n",
       "      <td>3</td>\n",
       "      <td>27</td>\n",
       "      <td>1</td>\n",
       "      <td>0</td>\n",
       "      <td>5</td>\n",
       "      <td>1</td>\n",
       "    </tr>\n",
       "    <tr>\n",
       "      <th>4651</th>\n",
       "      <td>4651</td>\n",
       "      <td>0</td>\n",
       "      <td>2012</td>\n",
       "      <td>0</td>\n",
       "      <td>3</td>\n",
       "      <td>30</td>\n",
       "      <td>1</td>\n",
       "      <td>1</td>\n",
       "      <td>2</td>\n",
       "      <td>0</td>\n",
       "    </tr>\n",
       "    <tr>\n",
       "      <th>4652</th>\n",
       "      <td>4652</td>\n",
       "      <td>0</td>\n",
       "      <td>2015</td>\n",
       "      <td>0</td>\n",
       "      <td>3</td>\n",
       "      <td>33</td>\n",
       "      <td>1</td>\n",
       "      <td>1</td>\n",
       "      <td>4</td>\n",
       "      <td>0</td>\n",
       "    </tr>\n",
       "  </tbody>\n",
       "</table>\n",
       "<p>4653 rows × 10 columns</p>\n",
       "</div>"
      ],
      "text/plain": [
       "      Unnamed: 0  Education  JoiningYear  City  PaymentTier  Age  Gender  \\\n",
       "0              0          0         2017     0            3   34       1   \n",
       "1              1          0         2013     2            1   28       0   \n",
       "2              2          0         2014     1            3   38       0   \n",
       "3              3          1         2016     0            3   27       1   \n",
       "4              4          1         2017     2            3   24       1   \n",
       "...          ...        ...          ...   ...          ...  ...     ...   \n",
       "4648        4648          0         2013     0            3   26       0   \n",
       "4649        4649          1         2013     2            2   37       1   \n",
       "4650        4650          1         2018     1            3   27       1   \n",
       "4651        4651          0         2012     0            3   30       1   \n",
       "4652        4652          0         2015     0            3   33       1   \n",
       "\n",
       "      EverBenched  ExperienceInCurrentDomain  LeaveOrNot  \n",
       "0               0                          0           0  \n",
       "1               0                          3           1  \n",
       "2               0                          2           0  \n",
       "3               0                          5           1  \n",
       "4               1                          2           1  \n",
       "...           ...                        ...         ...  \n",
       "4648            0                          4           0  \n",
       "4649            0                          2           1  \n",
       "4650            0                          5           1  \n",
       "4651            1                          2           0  \n",
       "4652            1                          4           0  \n",
       "\n",
       "[4653 rows x 10 columns]"
      ]
     },
     "execution_count": 6,
     "metadata": {},
     "output_type": "execute_result"
    }
   ],
   "source": [
    "df_model = pd.read_csv(\"C:/Users/edenl/Desktop/ia_coding/notebooks/employes_are_leaving/Label_encoded.csv\")\n",
    "df_model"
   ]
  },
  {
   "cell_type": "code",
   "execution_count": 8,
   "id": "0946d661",
   "metadata": {},
   "outputs": [],
   "source": [
    "X = df_model.drop([\"LeaveOrNot\" ], axis=1)\n",
    "y = df_model.LeaveOrNot"
   ]
  },
  {
   "cell_type": "code",
   "execution_count": 21,
   "id": "106397f3",
   "metadata": {},
   "outputs": [],
   "source": [
    "X_train , X_test , y_train ,  y_test = train_test_split(X , y , random_state=42 , test_size=0.33)"
   ]
  },
  {
   "cell_type": "code",
   "execution_count": 22,
   "id": "71b3e0c8",
   "metadata": {},
   "outputs": [
    {
     "data": {
      "text/plain": [
       "(3117, 9)"
      ]
     },
     "execution_count": 22,
     "metadata": {},
     "output_type": "execute_result"
    }
   ],
   "source": [
    "X_train.shape"
   ]
  },
  {
   "cell_type": "raw",
   "id": "37c6c494",
   "metadata": {},
   "source": [
    "ITERATION\n"
   ]
  },
  {
   "cell_type": "code",
   "execution_count": 32,
   "id": "45c9f3eb",
   "metadata": {},
   "outputs": [],
   "source": [
    "preprocessing = Pipeline(steps=[\n",
    "   ('Minmax',MinMaxScaler())])\n",
    "        "
   ]
  },
  {
   "cell_type": "code",
   "execution_count": 33,
   "id": "504319cd",
   "metadata": {},
   "outputs": [],
   "source": [
    "pipeline_logistic = Pipeline(steps = [['preprocess', preprocessing],\n",
    "                                    ['classifier', LogisticRegression()]])\n"
   ]
  },
  {
   "cell_type": "code",
   "execution_count": 35,
   "id": "903b763a",
   "metadata": {},
   "outputs": [
    {
     "data": {
      "text/plain": [
       "Pipeline(steps=[('preprocess', Pipeline(steps=[('Minmax', MinMaxScaler())])),\n",
       "                ['classifier', LogisticRegression()]])"
      ]
     },
     "execution_count": 35,
     "metadata": {},
     "output_type": "execute_result"
    }
   ],
   "source": [
    "pipeline_logistic.fit(X_train , y_train)"
   ]
  },
  {
   "cell_type": "code",
   "execution_count": 39,
   "id": "02985c93",
   "metadata": {},
   "outputs": [],
   "source": [
    "scores = cross_val_score(estimator=pipeline_logistic,\n",
    "                        X = X_train , \n",
    "                        y = y_train , \n",
    "                        cv=5, \n",
    "                        n_jobs=2)"
   ]
  },
  {
   "cell_type": "code",
   "execution_count": 43,
   "id": "3d0f7630",
   "metadata": {},
   "outputs": [
    {
     "name": "stdout",
     "output_type": "stream",
     "text": [
      "accuracy train : 0.705\n",
      "cross_validation : 0.703\n",
      "accuracy test : 0.714\n"
     ]
    }
   ],
   "source": [
    "y_pred_logistic = pipeline_logistic.predict(X_test)\n",
    "print(\"accuracy train : %.3f\"%pipeline_logistic.score(X_train , y_train))\n",
    "print(\"cross_validation : %.3f\"%scores.mean())\n",
    "print(\"accuracy test : %.3f\"%pipeline_logistic.score(X_test , y_test))"
   ]
  },
  {
   "cell_type": "code",
   "execution_count": null,
   "id": "bbf09936",
   "metadata": {},
   "outputs": [],
   "source": []
  }
 ],
 "metadata": {
  "kernelspec": {
   "display_name": "Python 3",
   "language": "python",
   "name": "python3"
  },
  "language_info": {
   "codemirror_mode": {
    "name": "ipython",
    "version": 3
   },
   "file_extension": ".py",
   "mimetype": "text/x-python",
   "name": "python",
   "nbconvert_exporter": "python",
   "pygments_lexer": "ipython3",
   "version": "3.8.8"
  }
 },
 "nbformat": 4,
 "nbformat_minor": 5
}
